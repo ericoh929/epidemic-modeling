{
 "cells": [
  {
   "cell_type": "code",
   "execution_count": 1,
   "metadata": {},
   "outputs": [],
   "source": [
    "import numpy as np\n",
    "from tqdm import tqdm\n",
    "from copy import deepcopy\n",
    "import math\n",
    "from glob import glob"
   ]
  },
  {
   "cell_type": "code",
   "execution_count": 2,
   "metadata": {},
   "outputs": [],
   "source": [
    "lookup_file = open('../LOOKUP-GKGTHEMES.txt', 'r')\n",
    "lookup_gkg_themes = []\n",
    "theme2id = {}\n",
    "for i, line in enumerate(lookup_file.readlines()):\n",
    "    lookup_theme = line.strip().split('\\t')[0]\n",
    "    lookup_gkg_themes.append(lookup_theme)\n",
    "    theme2id[lookup_theme] = i\n",
    "lookup_file.close()"
   ]
  },
  {
   "cell_type": "code",
   "execution_count": 3,
   "metadata": {},
   "outputs": [
    {
     "data": {
      "text/plain": [
       "56840"
      ]
     },
     "execution_count": 3,
     "metadata": {},
     "output_type": "execute_result"
    }
   ],
   "source": [
    "len(lookup_gkg_themes) # number of nodes"
   ]
  },
  {
   "cell_type": "code",
   "execution_count": 4,
   "metadata": {},
   "outputs": [
    {
     "data": {
      "text/plain": [
       "2"
      ]
     },
     "execution_count": 4,
     "metadata": {},
     "output_type": "execute_result"
    }
   ],
   "source": [
    "theme2id['EPU_POLICY']"
   ]
  },
  {
   "cell_type": "code",
   "execution_count": 5,
   "metadata": {},
   "outputs": [],
   "source": [
    "theme_graph = np.zeros([len(lookup_gkg_themes), len(lookup_gkg_themes)])"
   ]
  },
  {
   "cell_type": "code",
   "execution_count": 6,
   "metadata": {},
   "outputs": [],
   "source": [
    "path = glob('./*csv') #4번까지 완료\n",
    "path = ['./20191230.gkg.csv',]"
   ]
  },
  {
   "cell_type": "code",
   "execution_count": 7,
   "metadata": {},
   "outputs": [
    {
     "name": "stderr",
     "output_type": "stream",
     "text": [
      "0it [00:00, ?it/s]"
     ]
    },
    {
     "name": "stdout",
     "output_type": "stream",
     "text": [
      "step:  0\n"
     ]
    },
    {
     "name": "stderr",
     "output_type": "stream",
     "text": [
      "69247it [12:08, 95.02it/s] \n"
     ]
    }
   ],
   "source": [
    "themes_not_in_lookup = []\n",
    "\n",
    "for e, t in enumerate(path):\n",
    "    theme_graph = np.zeros([len(lookup_gkg_themes), len(lookup_gkg_themes)])\n",
    "    print('step: ', e)\n",
    "    file = open(f'{t}', 'r')\n",
    "    for i, line in tqdm(enumerate(file.readlines())):\n",
    "        if i == 0:\n",
    "            continue\n",
    "        news_themes = line.strip().split('\\t')[3].rstrip(';').split(';')\n",
    "        for theme in news_themes:\n",
    "            if theme and theme not in lookup_gkg_themes:\n",
    "                if theme not in themes_not_in_lookup:\n",
    "                    themes_not_in_lookup.append(theme)\n",
    "            elif theme:\n",
    "                for theme_ in news_themes:\n",
    "                    if not theme_ or theme_ not in lookup_gkg_themes:\n",
    "                        continue\n",
    "                    if theme != theme_:\n",
    "                        theme_graph[theme2id[theme], theme2id[theme_]] += 1\n",
    "                        \n",
    "    way = t.split('/')[1]\n",
    "\n",
    "    np.save(f'./graph/theme_graph_{way}', theme_graph)\n",
    "    max_ = np.sum(theme_graph, axis = 0)\n",
    "    max__ = np.max(max_)\n",
    "    \n",
    "    graph = open(f'./{way}.txt', 'w')\n",
    "    for i in range(len(lookup_gkg_themes)):\n",
    "        #if i < 100:\n",
    "        #    continue\n",
    "        #else:\n",
    "        for j in range(len(lookup_gkg_themes)):\n",
    "            if j > i and int(theme_graph[i][j]) !=0:\n",
    "                graph.write(f'{i},{j},{theme_graph[i][j]/max__}\\n')\n",
    "    graph.close"
   ]
  },
  {
   "cell_type": "code",
   "execution_count": null,
   "metadata": {},
   "outputs": [],
   "source": []
  }
 ],
 "metadata": {
  "kernelspec": {
   "display_name": "Python 3",
   "language": "python",
   "name": "python3"
  },
  "language_info": {
   "codemirror_mode": {
    "name": "ipython",
    "version": 3
   },
   "file_extension": ".py",
   "mimetype": "text/x-python",
   "name": "python",
   "nbconvert_exporter": "python",
   "pygments_lexer": "ipython3",
   "version": "3.8.5"
  }
 },
 "nbformat": 4,
 "nbformat_minor": 4
}
