{
 "cells": [
  {
   "cell_type": "code",
   "execution_count": 2,
   "metadata": {},
   "outputs": [],
   "source": [
    "import numpy as np\n",
    "from tqdm import tqdm\n",
    "from copy import deepcopy\n",
    "import math\n",
    "from glob import glob"
   ]
  },
  {
   "cell_type": "code",
   "execution_count": 3,
   "metadata": {},
   "outputs": [],
   "source": [
    "lookup_file = open('./LOOKUP-GKGTHEMES.txt', 'r')\n",
    "lookup_gkg_themes = []\n",
    "theme2id = {}\n",
    "for i, line in enumerate(lookup_file.readlines()):\n",
    "    lookup_theme = line.strip().split('\\t')[0]\n",
    "    lookup_gkg_themes.append(lookup_theme)\n",
    "    theme2id[lookup_theme] = i\n",
    "lookup_file.close()"
   ]
  },
  {
   "cell_type": "code",
   "execution_count": 4,
   "metadata": {},
   "outputs": [
    {
     "data": {
      "text/plain": [
       "56840"
      ]
     },
     "execution_count": 4,
     "metadata": {},
     "output_type": "execute_result"
    }
   ],
   "source": [
    "len(lookup_gkg_themes) # number of nodes"
   ]
  },
  {
   "cell_type": "code",
   "execution_count": 5,
   "metadata": {},
   "outputs": [
    {
     "data": {
      "text/plain": [
       "2"
      ]
     },
     "execution_count": 5,
     "metadata": {},
     "output_type": "execute_result"
    }
   ],
   "source": [
    "theme2id['EPU_POLICY']"
   ]
  },
  {
   "cell_type": "code",
   "execution_count": 6,
   "metadata": {},
   "outputs": [],
   "source": [
    "theme_graph = np.zeros([len(lookup_gkg_themes), len(lookup_gkg_themes)])"
   ]
  },
  {
   "cell_type": "code",
   "execution_count": 7,
   "metadata": {},
   "outputs": [
    {
     "data": {
      "text/plain": [
       "['./gkg_dataset_corona/20191104.gkg.csv',\n",
       " './gkg_dataset_corona/20191209.gkg.csv',\n",
       " './gkg_dataset_corona/20200120.gkg.csv',\n",
       " './gkg_dataset_corona/20200217.gkg.csv',\n",
       " './gkg_dataset_corona/20191202.gkg.csv',\n",
       " './gkg_dataset_corona/20191223.gkg.csv',\n",
       " './gkg_dataset_corona/20200210.gkg.csv',\n",
       " './gkg_dataset_corona/20200203.gkg.csv',\n",
       " './gkg_dataset_corona/20200106.gkg.csv',\n",
       " './gkg_dataset_corona/20191216.gkg.csv',\n",
       " './gkg_dataset_corona/20200113.gkg.csv',\n",
       " './gkg_dataset_corona/20191125.gkg.csv',\n",
       " './gkg_dataset_corona/20200127.gkg.csv',\n",
       " './gkg_dataset_corona/20191230.gkg.csv',\n",
       " './gkg_dataset_corona/20200224.gkg.csv',\n",
       " './gkg_dataset_corona/20191111.gkg.csv',\n",
       " './gkg_dataset_corona/20191118.gkg.csv']"
      ]
     },
     "execution_count": 7,
     "metadata": {},
     "output_type": "execute_result"
    }
   ],
   "source": [
    "path = glob('./gkg_dataset_corona/*') #4번까지 완료\n",
    "path = ['./gkg_dataset_corona/20191202.gkg.csv',\n",
    " './gkg_dataset_corona/20191223.gkg.csv',\n",
    " './gkg_dataset_corona/20200210.gkg.csv',\n",
    " './gkg_dataset_corona/20200203.gkg.csv',]"
   ]
  },
  {
   "cell_type": "code",
   "execution_count": 8,
   "metadata": {},
   "outputs": [
    {
     "name": "stdout",
     "output_type": "stream",
     "text": [
      "step:  0\n"
     ]
    },
    {
     "name": "stderr",
     "output_type": "stream",
     "text": [
      "93744it [11:24, 136.99it/s]\n"
     ]
    },
    {
     "name": "stdout",
     "output_type": "stream",
     "text": [
      "step:  1\n"
     ]
    },
    {
     "name": "stderr",
     "output_type": "stream",
     "text": [
      "89530it [11:37, 128.44it/s]\n"
     ]
    },
    {
     "name": "stdout",
     "output_type": "stream",
     "text": [
      "step:  2\n"
     ]
    },
    {
     "name": "stderr",
     "output_type": "stream",
     "text": [
      "82131it [09:57, 137.50it/s]\n"
     ]
    },
    {
     "name": "stdout",
     "output_type": "stream",
     "text": [
      "step:  3\n"
     ]
    },
    {
     "name": "stderr",
     "output_type": "stream",
     "text": [
      "78591it [09:38, 135.76it/s]\n"
     ]
    },
    {
     "name": "stdout",
     "output_type": "stream",
     "text": [
      "step:  4\n"
     ]
    },
    {
     "name": "stderr",
     "output_type": "stream",
     "text": [
      "14623it [01:39, 146.43it/s]\n"
     ]
    },
    {
     "ename": "KeyboardInterrupt",
     "evalue": "",
     "output_type": "error",
     "traceback": [
      "\u001b[0;31m---------------------------------------------------------------------------\u001b[0m",
      "\u001b[0;31mKeyboardInterrupt\u001b[0m                         Traceback (most recent call last)",
      "\u001b[0;32m/tmp/ipykernel_1531/1262732928.py\u001b[0m in \u001b[0;36m<module>\u001b[0;34m\u001b[0m\n\u001b[1;32m     14\u001b[0m             \u001b[0;32melif\u001b[0m \u001b[0mtheme\u001b[0m\u001b[0;34m:\u001b[0m\u001b[0;34m\u001b[0m\u001b[0;34m\u001b[0m\u001b[0m\n\u001b[1;32m     15\u001b[0m                 \u001b[0;32mfor\u001b[0m \u001b[0mtheme_\u001b[0m \u001b[0;32min\u001b[0m \u001b[0mnews_themes\u001b[0m\u001b[0;34m:\u001b[0m\u001b[0;34m\u001b[0m\u001b[0;34m\u001b[0m\u001b[0m\n\u001b[0;32m---> 16\u001b[0;31m                     \u001b[0;32mif\u001b[0m \u001b[0;32mnot\u001b[0m \u001b[0mtheme_\u001b[0m \u001b[0;32mor\u001b[0m \u001b[0mtheme_\u001b[0m \u001b[0;32mnot\u001b[0m \u001b[0;32min\u001b[0m \u001b[0mlookup_gkg_themes\u001b[0m\u001b[0;34m:\u001b[0m\u001b[0;34m\u001b[0m\u001b[0;34m\u001b[0m\u001b[0m\n\u001b[0m\u001b[1;32m     17\u001b[0m                         \u001b[0;32mcontinue\u001b[0m\u001b[0;34m\u001b[0m\u001b[0;34m\u001b[0m\u001b[0m\n\u001b[1;32m     18\u001b[0m                     \u001b[0;32mif\u001b[0m \u001b[0mtheme\u001b[0m \u001b[0;34m!=\u001b[0m \u001b[0mtheme_\u001b[0m\u001b[0;34m:\u001b[0m\u001b[0;34m\u001b[0m\u001b[0;34m\u001b[0m\u001b[0m\n",
      "\u001b[0;31mKeyboardInterrupt\u001b[0m: "
     ]
    }
   ],
   "source": [
    "themes_not_in_lookup = []\n",
    "\n",
    "for e, t in enumerate(path):\n",
    "    print('step: ', e)\n",
    "    file = open(f'{t}', 'r')\n",
    "    for i, line in tqdm(enumerate(file.readlines())):\n",
    "        if i == 0:\n",
    "            continue\n",
    "        news_themes = line.strip().split('\\t')[3].rstrip(';').split(';')\n",
    "        for theme in news_themes:\n",
    "            if theme and theme not in lookup_gkg_themes:\n",
    "                if theme not in themes_not_in_lookup:\n",
    "                    themes_not_in_lookup.append(theme)\n",
    "            elif theme:\n",
    "                for theme_ in news_themes:\n",
    "                    if not theme_ or theme_ not in lookup_gkg_themes:\n",
    "                        continue\n",
    "                    if theme != theme_:\n",
    "                        theme_graph[theme2id[theme], theme2id[theme_]] += 1\n",
    "                        \n",
    "    way = t.split('/')[2]\n",
    "\n",
    "    np.save(f'./corona_sequential_graph/graph/theme_graph_{way}', theme_graph)\n",
    "    max_ = np.sum(theme_graph, axis = 0)\n",
    "    max__ = np.max(max_)\n",
    "    \n",
    "    way = t.split('/')[2]\n",
    "    \n",
    "    graph = open(f'./corona_sequential_graph/{way}.txt', 'w')\n",
    "    for i in range(len(lookup_gkg_themes)):\n",
    "        #if i < 100:\n",
    "        #    continue\n",
    "        #else:\n",
    "        for j in range(len(lookup_gkg_themes)):\n",
    "            if j > i and int(theme_graph[i][j]) !=0:\n",
    "                graph.write(f'{i},{j},{theme_graph[i][j]/max__}\\n')\n",
    "    graph.close"
   ]
  },
  {
   "cell_type": "code",
   "execution_count": null,
   "metadata": {},
   "outputs": [],
   "source": []
  }
 ],
 "metadata": {
  "kernelspec": {
   "display_name": "Full on Python 3.7 (GPU)",
   "language": "python",
   "name": "python3"
  },
  "language_info": {
   "codemirror_mode": {
    "name": "ipython",
    "version": 3
   },
   "file_extension": ".py",
   "mimetype": "text/x-python",
   "name": "python",
   "nbconvert_exporter": "python",
   "pygments_lexer": "ipython3",
   "version": "3.7.11"
  }
 },
 "nbformat": 4,
 "nbformat_minor": 4
}
