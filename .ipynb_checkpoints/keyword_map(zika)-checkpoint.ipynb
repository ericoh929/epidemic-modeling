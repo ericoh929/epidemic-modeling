{
 "cells": [
  {
   "cell_type": "code",
   "execution_count": 87,
   "metadata": {},
   "outputs": [],
   "source": [
    "import numpy as np\n",
    "from tqdm import tqdm"
   ]
  },
  {
   "cell_type": "code",
   "execution_count": 61,
   "metadata": {},
   "outputs": [],
   "source": [
    "lookup_file = open('./LOOKUP-GKGTHEMES.txt', 'r')\n",
    "lookup_gkg_themes = []\n",
    "theme2id = {}\n",
    "for i, line in enumerate(lookup_file.readlines()):\n",
    "    lookup_theme = line.strip().split('\\t')[0]\n",
    "    lookup_gkg_themes.append(lookup_theme)\n",
    "    theme2id[lookup_theme] = i\n",
    "lookup_file.close()"
   ]
  },
  {
   "cell_type": "code",
   "execution_count": 62,
   "metadata": {},
   "outputs": [
    {
     "data": {
      "text/plain": [
       "56840"
      ]
     },
     "execution_count": 62,
     "metadata": {},
     "output_type": "execute_result"
    }
   ],
   "source": [
    "len(lookup_gkg_themes) # number of nodes"
   ]
  },
  {
   "cell_type": "code",
   "execution_count": 68,
   "metadata": {},
   "outputs": [
    {
     "data": {
      "text/plain": [
       "2"
      ]
     },
     "execution_count": 68,
     "metadata": {},
     "output_type": "execute_result"
    }
   ],
   "source": [
    "theme2id['EPU_POLICY']"
   ]
  },
  {
   "cell_type": "code",
   "execution_count": 72,
   "metadata": {},
   "outputs": [],
   "source": [
    "theme_graph = np.zeros([len(lookup_gkg_themes), len(lookup_gkg_themes)])"
   ]
  },
  {
   "cell_type": "code",
   "execution_count": 88,
   "metadata": {},
   "outputs": [
    {
     "name": "stderr",
     "output_type": "stream",
     "text": [
      "91537it [09:47, 155.69it/s]\n"
     ]
    }
   ],
   "source": [
    "themes_not_in_lookup = []\n",
    "\n",
    "file = open('gkg_dataset/20191125.gkg.csv', 'r')\n",
    "for i, line in tqdm(enumerate(file.readlines())):\n",
    "    if i == 0:\n",
    "        continue\n",
    "    news_themes = line.strip().split('\\t')[3].rstrip(';').split(';')\n",
    "    for theme in news_themes:\n",
    "        if theme and theme not in lookup_gkg_themes:\n",
    "            if theme not in themes_not_in_lookup:\n",
    "                themes_not_in_lookup.append(theme)\n",
    "        elif theme:\n",
    "            for theme_ in news_themes:\n",
    "                if not theme_ or theme_ not in lookup_gkg_themes:\n",
    "                    continue\n",
    "                if theme != theme_:\n",
    "                    theme_graph[theme2id[theme], theme2id[theme_]] += 1"
   ]
  },
  {
   "cell_type": "code",
   "execution_count": 89,
   "metadata": {},
   "outputs": [
    {
     "data": {
      "text/plain": [
       "1218.012605559465"
      ]
     },
     "execution_count": 89,
     "metadata": {},
     "output_type": "execute_result"
    }
   ],
   "source": [
    "# average number of edges (per node)\n",
    "theme_graph.sum()/len(lookup_gkg_themes)/2"
   ]
  },
  {
   "cell_type": "code",
   "execution_count": 100,
   "metadata": {},
   "outputs": [
    {
     "name": "stdout",
     "output_type": "stream",
     "text": [
      "TAX_FNCACT\n",
      "TAX_ETHNICITY\n",
      "EPU_POLICY\n",
      "CRISISLEX_CRISISLEXREC\n",
      "TAX_WORLDLANGUAGES\n",
      "LEADER\n",
      "SOC_POINTSOFINTEREST\n",
      "USPEC_POLITICS_GENERAL1\n",
      "WB_696_PUBLIC_SECTOR_MANAGEMENT\n",
      "UNGP_FORESTS_RIVERS_OCEANS\n",
      "CRISISLEX_C07_SAFETY\n",
      "GENERAL_GOVERNMENT\n",
      "USPEC_POLICY1\n",
      "MEDIA_MSM\n",
      "EDUCATION\n",
      "WB_2432_FRAGILITY_CONFLICT_AND_VIOLENCE\n",
      "MANMADE_DISASTER_IMPLIED\n",
      "GENERAL_HEALTH\n",
      "EPU_ECONOMY_HISTORIC\n",
      "MEDICAL\n",
      "WB_621_HEALTH_NUTRITION_AND_POPULATION\n",
      "WB_133_INFORMATION_AND_COMMUNICATION_TECHNOLOGIES\n",
      "WB_678_DIGITAL_GOVERNMENT\n",
      "KILL\n",
      "TAX_FNCACT_PRESIDENT\n",
      "TAX_WORLDMAMMALS\n",
      "WB_840_JUSTICE\n",
      "SECURITY_SERVICES\n",
      "TAX_ECON_PRICE\n",
      "EPU_POLICY_GOVERNMENT\n",
      "WB_694_BROADCAST_AND_MEDIA\n",
      "WB_2433_CONFLICT_AND_VIOLENCE\n",
      "ARMEDCONFLICT\n",
      "TAX_FNCACT_POLICE\n",
      "CRISISLEX_C03_WELLBEING_HEALTH\n",
      "TAX_DISEASE\n",
      "LEGISLATION\n",
      "AFFECT\n",
      "WB_135_TRANSPORT\n",
      "CRISISLEX_T03_DEAD\n",
      "TRIAL\n",
      "WB_2670_JOBS\n",
      "TAX_FNCACT_MINISTER\n",
      "CRISISLEX_T11_UPDATESSYMPATHY\n",
      "WB_831_GOVERNANCE\n",
      "WB_470_EDUCATION\n",
      "WB_1014_CRIMINAL_JUSTICE\n",
      "EPU_CATS_MIGRATION_FEAR_FEAR\n",
      "SOC_GENERALCRIME\n",
      "TAX_MILITARY_TITLE\n",
      "CRISISLEX_T02_INJURED\n",
      "WB_832_ANTI_CORRUPTION\n",
      "ARREST\n",
      "EPU_ECONOMY\n",
      "WB_1921_PRIVATE_SECTOR_DEVELOPMENT\n",
      "TAX_FNCACT_MAN\n",
      "TAX_RELIGION\n",
      "TAX_FNCACT_CHILDREN\n",
      "TAX_FNCACT_DIRECTOR\n",
      "SOC_POINTSOFINTEREST_SCHOOL\n",
      "EPU_POLICY_LAW\n",
      "WB_2470_PEACE_OPERATIONS_AND_CONFLICT_MANAGEMENT\n",
      "WB_2024_ANTI_CORRUPTION_AUTHORITIES\n",
      "ELECTION\n",
      "WB_1406_DISEASES\n",
      "MEDIA_SOCIAL\n",
      "WB_137_WATER\n",
      "WB_507_ENERGY_AND_EXTRACTIVES\n",
      "EPU_POLICY_POLICY\n",
      "TAX_FNCACT_OFFICIAL\n",
      "SCIENCE\n",
      "EPU_CATS_NATIONAL_SECURITY\n",
      "WB_698_TRADE\n",
      "NATURAL_DISASTER\n",
      "UNGP_CRIME_VIOLENCE\n",
      "WB_2025_INVESTIGATION\n",
      "TAX_FNCACT_AUTHORITIES\n",
      "TAX_WORLDMAMMALS_HUMAN\n",
      "USPEC_UNCERTAINTY1\n",
      "TAX_FNCACT_LEADER\n",
      "TAX_POLITICAL_PARTY\n",
      "TAX_FNCACT_OFFICIALS\n",
      "TAX_FNCACT_WOMEN\n",
      "SOC_POINTSOFINTEREST_UNIVERSITY\n",
      "WB_1427_NON_COMMUNICABLE_DISEASE_AND_INJURY\n",
      "WB_635_PUBLIC_HEALTH\n",
      "WB_723_PUBLIC_ADMINISTRATION\n",
      "TAX_FNCACT_CHIEF\n",
      "EPU_POLICY_POLITICAL\n",
      "WB_697_SOCIAL_PROTECTION_AND_LABOR\n",
      "PROTEST\n",
      "WB_2490_NATIONAL_PROTECTION_AND_SECURITY\n",
      "EPU_POLICY_AUTHORITIES\n",
      "WB_724_HUMAN_RESOURCES_FOR_PUBLIC_SECTOR\n",
      "MOVEMENT_GENERAL\n",
      "TAX_FNCACT_EXECUTIVE\n",
      "TAX_ETHNICITY_AMERICAN\n",
      "WB_1467_EDUCATION_FOR_ALL\n",
      "TAX_FNCACT_LEADERS\n",
      "TAX_FNCACT_OFFICER\n"
     ]
    }
   ],
   "source": [
    "topk_indices = theme_graph.sum(axis=1).argsort()[-100:][::-1]\n",
    "# print(topk_indices)\n",
    "for key, value in theme2id.items():\n",
    "    if value in topk_indices:\n",
    "        print(key)"
   ]
  },
  {
   "cell_type": "code",
   "execution_count": 101,
   "metadata": {},
   "outputs": [
    {
     "name": "stderr",
     "output_type": "stream",
     "text": [
      "76236it [07:46, 163.46it/s]\n"
     ]
    },
    {
     "name": "stdout",
     "output_type": "stream",
     "text": [
      "TAX_FNCACT\n",
      "TAX_ETHNICITY\n",
      "EPU_POLICY\n",
      "CRISISLEX_CRISISLEXREC\n",
      "TAX_WORLDLANGUAGES\n",
      "LEADER\n",
      "SOC_POINTSOFINTEREST\n",
      "USPEC_POLITICS_GENERAL1\n",
      "WB_696_PUBLIC_SECTOR_MANAGEMENT\n",
      "UNGP_FORESTS_RIVERS_OCEANS\n",
      "CRISISLEX_C07_SAFETY\n",
      "GENERAL_GOVERNMENT\n",
      "USPEC_POLICY1\n",
      "MEDIA_MSM\n",
      "EDUCATION\n",
      "WB_2432_FRAGILITY_CONFLICT_AND_VIOLENCE\n",
      "MANMADE_DISASTER_IMPLIED\n",
      "GENERAL_HEALTH\n",
      "EPU_ECONOMY_HISTORIC\n",
      "MEDICAL\n",
      "WB_621_HEALTH_NUTRITION_AND_POPULATION\n",
      "WB_133_INFORMATION_AND_COMMUNICATION_TECHNOLOGIES\n",
      "WB_678_DIGITAL_GOVERNMENT\n",
      "KILL\n",
      "TAX_FNCACT_PRESIDENT\n",
      "TAX_WORLDMAMMALS\n",
      "WB_840_JUSTICE\n",
      "SECURITY_SERVICES\n",
      "TAX_ECON_PRICE\n",
      "EPU_POLICY_GOVERNMENT\n",
      "WB_694_BROADCAST_AND_MEDIA\n",
      "WB_2433_CONFLICT_AND_VIOLENCE\n",
      "ARMEDCONFLICT\n",
      "TAX_FNCACT_POLICE\n",
      "CRISISLEX_C03_WELLBEING_HEALTH\n",
      "TAX_DISEASE\n",
      "LEGISLATION\n",
      "AFFECT\n",
      "WB_135_TRANSPORT\n",
      "CRISISLEX_T03_DEAD\n",
      "TRIAL\n",
      "WB_2670_JOBS\n",
      "TAX_FNCACT_MINISTER\n",
      "CRISISLEX_T11_UPDATESSYMPATHY\n",
      "WB_831_GOVERNANCE\n",
      "WB_470_EDUCATION\n",
      "WB_1014_CRIMINAL_JUSTICE\n",
      "EPU_CATS_MIGRATION_FEAR_FEAR\n",
      "SOC_GENERALCRIME\n",
      "TAX_MILITARY_TITLE\n",
      "CRISISLEX_T02_INJURED\n",
      "WB_832_ANTI_CORRUPTION\n",
      "ARREST\n",
      "EPU_ECONOMY\n",
      "WB_1921_PRIVATE_SECTOR_DEVELOPMENT\n",
      "TAX_FNCACT_MAN\n",
      "TAX_RELIGION\n",
      "TAX_FNCACT_CHILDREN\n",
      "TAX_FNCACT_DIRECTOR\n",
      "SOC_POINTSOFINTEREST_SCHOOL\n",
      "EPU_POLICY_LAW\n",
      "WB_2470_PEACE_OPERATIONS_AND_CONFLICT_MANAGEMENT\n",
      "WB_2024_ANTI_CORRUPTION_AUTHORITIES\n",
      "ELECTION\n",
      "WB_1406_DISEASES\n",
      "MEDIA_SOCIAL\n",
      "WB_137_WATER\n",
      "WB_507_ENERGY_AND_EXTRACTIVES\n",
      "EPU_POLICY_POLICY\n",
      "TAX_FNCACT_OFFICIAL\n",
      "SCIENCE\n",
      "WB_1803_TRANSPORT_INFRASTRUCTURE\n",
      "EPU_CATS_NATIONAL_SECURITY\n",
      "WB_698_TRADE\n",
      "NATURAL_DISASTER\n",
      "UNGP_CRIME_VIOLENCE\n",
      "WB_2025_INVESTIGATION\n",
      "TAX_FNCACT_AUTHORITIES\n",
      "CRISISLEX_T01_CAUTION_ADVICE\n",
      "TAX_WORLDMAMMALS_HUMAN\n",
      "USPEC_UNCERTAINTY1\n",
      "TAX_FNCACT_LEADER\n",
      "TAX_POLITICAL_PARTY\n",
      "TAX_FNCACT_OFFICIALS\n",
      "SOC_POINTSOFINTEREST_UNIVERSITY\n",
      "WB_1427_NON_COMMUNICABLE_DISEASE_AND_INJURY\n",
      "WB_635_PUBLIC_HEALTH\n",
      "WB_723_PUBLIC_ADMINISTRATION\n",
      "TAX_FNCACT_CHIEF\n",
      "EPU_POLICY_POLITICAL\n",
      "WB_697_SOCIAL_PROTECTION_AND_LABOR\n",
      "PROTEST\n",
      "WB_2490_NATIONAL_PROTECTION_AND_SECURITY\n",
      "EPU_POLICY_AUTHORITIES\n",
      "MOVEMENT_GENERAL\n",
      "TAX_FNCACT_EXECUTIVE\n",
      "TAX_ETHNICITY_AMERICAN\n",
      "WB_1467_EDUCATION_FOR_ALL\n",
      "TAX_FNCACT_LEADERS\n",
      "TAX_FNCACT_OFFICER\n"
     ]
    }
   ],
   "source": [
    "themes_not_in_lookup = []\n",
    "\n",
    "file = open('gkg_dataset/20191223.gkg.csv', 'r')\n",
    "for i, line in tqdm(enumerate(file.readlines())):\n",
    "    if i == 0:\n",
    "        continue\n",
    "    news_themes = line.strip().split('\\t')[3].rstrip(';').split(';')\n",
    "    for theme in news_themes:\n",
    "        if theme and theme not in lookup_gkg_themes:\n",
    "            if theme not in themes_not_in_lookup:\n",
    "                themes_not_in_lookup.append(theme)\n",
    "        elif theme:\n",
    "            for theme_ in news_themes:\n",
    "                if not theme_ or theme_ not in lookup_gkg_themes:\n",
    "                    continue\n",
    "                if theme != theme_:\n",
    "                    theme_graph[theme2id[theme], theme2id[theme_]] += 1\n",
    "                    \n",
    "topk_indices = theme_graph.sum(axis=1).argsort()[-100:][::-1]\n",
    "# print(topk_indices)\n",
    "for key, value in theme2id.items():\n",
    "    if value in topk_indices:\n",
    "        print(key)"
   ]
  },
  {
   "cell_type": "code",
   "execution_count": null,
   "metadata": {},
   "outputs": [],
   "source": []
  }
 ],
 "metadata": {
  "kernelspec": {
   "display_name": "Python 3",
   "language": "python",
   "name": "python3"
  },
  "language_info": {
   "codemirror_mode": {
    "name": "ipython",
    "version": 3
   },
   "file_extension": ".py",
   "mimetype": "text/x-python",
   "name": "python",
   "nbconvert_exporter": "python",
   "pygments_lexer": "ipython3",
   "version": "3.8.3"
  }
 },
 "nbformat": 4,
 "nbformat_minor": 4
}
